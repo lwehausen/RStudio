{
  "nbformat": 4,
  "nbformat_minor": 0,
  "metadata": {
    "colab": {
      "provenance": [],
      "authorship_tag": "ABX9TyNc1TNyZRsAUj9BhY20dQV3",
      "include_colab_link": true
    },
    "kernelspec": {
      "name": "python3",
      "display_name": "Python 3"
    },
    "language_info": {
      "name": "python"
    }
  },
  "cells": [
    {
      "cell_type": "markdown",
      "metadata": {
        "id": "view-in-github",
        "colab_type": "text"
      },
      "source": [
        "<a href=\"https://colab.research.google.com/github/lwehausen/RStudio/blob/main/Lahman_data_analysis.ipynb\" target=\"_parent\"><img src=\"https://colab.research.google.com/assets/colab-badge.svg\" alt=\"Open In Colab\"/></a>"
      ]
    },
    {
      "cell_type": "code",
      "execution_count": 1,
      "metadata": {
        "id": "yOQCO5fkWJ1S"
      },
      "outputs": [],
      "source": [
        "#To run R in Google Colab:\n",
        "%load_ext rpy2.ipython"
      ]
    },
    {
      "cell_type": "markdown",
      "source": [
        "A data analysis and data visualization using the Teams, Batting, Pitching, and People data frames in the Lahman package."
      ],
      "metadata": {
        "id": "LiEqNMSdWbtr"
      }
    },
    {
      "cell_type": "code",
      "source": [
        "%%R\n",
        "install.packages(\"Lahman\", repos = \"http://cran.us.r-project.org\")"
      ],
      "metadata": {
        "id": "HqkndRJLWceF"
      },
      "execution_count": null,
      "outputs": []
    }
  ]
}